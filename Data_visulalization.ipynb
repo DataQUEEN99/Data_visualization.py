{
  "nbformat": 4,
  "nbformat_minor": 0,
  "metadata": {
    "colab": {
      "provenance": []
    },
    "kernelspec": {
      "name": "python3",
      "display_name": "Python 3"
    },
    "language_info": {
      "name": "python"
    }
  },
  "cells": [
    {
      "cell_type": "code",
      "execution_count": null,
      "metadata": {
        "id": "_BZA2xCiX0Yh"
      },
      "outputs": [],
      "source": [
        "#  Importing required libraries\n",
        "import pandas as pd\n",
        "import numpy as np\n",
        "import matplotlib.pyplot as plt\n",
        "\n",
        "# 🎲 Generating sample data for 5 students using NumPy\n",
        "data = {\n",
        "    \"NAME\": [\"A\", \"B\", \"C\", \"D\", \"E\"],\n",
        "    \"MATH\": np.random.randint(60, 100, 5),\n",
        "    \"SCIENCE\": np.random.randint(50, 90, 5),\n",
        "    \"BIOLOGY\": np.random.randint(60, 80, 5),\n",
        "    \"CHEMISTRY\": np.random.randint(60, 70, 5),\n",
        "}\n",
        "\n",
        "#  Creating a DataFrame with the generated data\n",
        "df = pd.DataFrame(data)\n",
        "\n",
        "# ➕ Calculating the total marks for each student\n",
        "df[\"total\"] = df[[\"MATH\", \"SCIENCE\", \"BIOLOGY\", \"CHEMISTRY\"]].sum(axis=1)\n",
        "\n",
        "#  Plotting a bar chart of total marks\n",
        "plt.figure(figsize=(8, 5))\n",
        "plt.bar(df[\"NAME\"], df[\"total\"], color=\"purple\")\n",
        "plt.title(\"🎓 Total Marks Visualization\", fontsize=14)\n",
        "plt.xlabel(\"Students\", fontsize=12)\n",
        "plt.ylabel(\"Total Marks\", fontsize=12)\n",
        "plt.grid(axis='y', linestyle='--', alpha=0.5)\n",
        "plt.tight_layout()\n",
        "plt.show()\n",
        ""
      ]
    }
  ]
}